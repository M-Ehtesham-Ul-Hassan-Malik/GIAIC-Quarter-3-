{
 "cells": [
  {
   "cell_type": "markdown",
   "metadata": {},
   "source": [
    "# Methods\n",
    "\n",
    "1- String method\n",
    "\n",
    "2- List method\n",
    "\n",
    "3- Dictionary method  \n",
    "\n",
    "4- Set method\n",
    "\n",
    "5- Tuple method"
   ]
  },
  {
   "cell_type": "markdown",
   "metadata": {},
   "source": [
    "## 1- String Methods"
   ]
  },
  {
   "cell_type": "code",
   "execution_count": 56,
   "metadata": {},
   "outputs": [
    {
     "data": {
      "text/plain": [
       "['capitalize',\n",
       " 'casefold',\n",
       " 'center',\n",
       " 'count',\n",
       " 'encode',\n",
       " 'endswith',\n",
       " 'expandtabs',\n",
       " 'find',\n",
       " 'format',\n",
       " 'format_map',\n",
       " 'index',\n",
       " 'isalnum',\n",
       " 'isalpha',\n",
       " 'isascii',\n",
       " 'isdecimal',\n",
       " 'isdigit',\n",
       " 'isidentifier',\n",
       " 'islower',\n",
       " 'isnumeric',\n",
       " 'isprintable',\n",
       " 'isspace',\n",
       " 'istitle',\n",
       " 'isupper',\n",
       " 'join',\n",
       " 'ljust',\n",
       " 'lower',\n",
       " 'lstrip',\n",
       " 'maketrans',\n",
       " 'partition',\n",
       " 'removeprefix',\n",
       " 'removesuffix',\n",
       " 'replace',\n",
       " 'rfind',\n",
       " 'rindex',\n",
       " 'rjust',\n",
       " 'rpartition',\n",
       " 'rsplit',\n",
       " 'rstrip',\n",
       " 'split',\n",
       " 'splitlines',\n",
       " 'startswith',\n",
       " 'strip',\n",
       " 'swapcase',\n",
       " 'title',\n",
       " 'translate',\n",
       " 'upper',\n",
       " 'zfill']"
      ]
     },
     "execution_count": 56,
     "metadata": {},
     "output_type": "execute_result"
    }
   ],
   "source": [
    "# String method\n",
    "\n",
    "[i for i in dir(str) if \"__\" not in i]"
   ]
  },
  {
   "cell_type": "code",
   "execution_count": 46,
   "metadata": {},
   "outputs": [
    {
     "name": "stdout",
     "output_type": "stream",
     "text": [
      "  ehtesham malik   \n",
      "  Ehtesham Malik   \n",
      "  EHTESHAM MALIK   \n",
      "  ehtesham malik   \n",
      "19\n",
      "ehTEshAm malIK\n",
      "ehTEshAm malIK   \n",
      "  ehTEshAm malIK\n"
     ]
    }
   ],
   "source": [
    "name = '  ehTEshAm malIK   '\n",
    "\n",
    "print(name.capitalize()) # \n",
    "print(name.title())\n",
    "print(name.upper())\n",
    "print(name.lower())\n",
    "\n",
    "print(len(name)) # counts the length of the string\n",
    "\n",
    "print(name.strip()) # remove extra spaces from the string\n",
    "print(name.lstrip()) # remove extra spaces from the left side of string\n",
    "print(name.rstrip()) # remove extra spaces from the right side of string\n"
   ]
  },
  {
   "cell_type": "code",
   "execution_count": 94,
   "metadata": {},
   "outputs": [
    {
     "name": "stdout",
     "output_type": "stream",
     "text": [
      "Eid Mubarak\n",
      "Raadan Mubarak\n",
      "2\n",
      "find method for m:  2\n",
      "find method for x:  -1\n",
      "True\n",
      "False\n",
      "True\n",
      "False\n"
     ]
    }
   ],
   "source": [
    "value = 'Ramdan Mubarak' \n",
    "print(value.replace('Ramdan','Eid')) # first value which you want to replace | Second value is the new value\n",
    "print(value.replace('m','a'))\n",
    "\n",
    "print(value.index('m')) # index of first occurance of the value\n",
    "print('find method for m: ', value.find('m'))\n",
    "print('find method for x: ', value.find('x'))\n",
    "\n",
    "\n",
    "print(value.startswith('Ramdan')) # returns the boolean value\n",
    "print(value.startswith('Eid'))\n",
    "\n",
    "print(value.endswith('Mubarak'))\n",
    "print(value.endswith('Pakistan'))"
   ]
  },
  {
   "cell_type": "code",
   "execution_count": 52,
   "metadata": {},
   "outputs": [
    {
     "name": "stdout",
     "output_type": "stream",
     "text": [
      "['jan', 'feb', 'mar', 'apr', 'may', 'jun', 'jul', 'aug', 'sep']\n"
     ]
    }
   ],
   "source": [
    "value = 'jan,feb,mar,apr,may,jun,jul,aug,sep'\n",
    "print(value.split(',')) # where getting the ',' (comma) it will split the string there"
   ]
  },
  {
   "cell_type": "code",
   "execution_count": 55,
   "metadata": {},
   "outputs": [
    {
     "name": "stdout",
     "output_type": "stream",
     "text": [
      "jan feb mar apr may jun jul aug sep\n"
     ]
    }
   ],
   "source": [
    "list = ['jan', 'feb', 'mar', 'apr', 'may', 'jun', 'jul', 'aug', 'sep']\n",
    "print(' '.join(list))"
   ]
  },
  {
   "cell_type": "markdown",
   "metadata": {},
   "source": [
    "## 2- List Methods"
   ]
  },
  {
   "cell_type": "code",
   "execution_count": 57,
   "metadata": {},
   "outputs": [
    {
     "data": {
      "text/plain": [
       "['append',\n",
       " 'clear',\n",
       " 'copy',\n",
       " 'count',\n",
       " 'extend',\n",
       " 'index',\n",
       " 'insert',\n",
       " 'pop',\n",
       " 'remove',\n",
       " 'reverse',\n",
       " 'sort']"
      ]
     },
     "execution_count": 57,
     "metadata": {},
     "output_type": "execute_result"
    }
   ],
   "source": [
    "# list method\n",
    "\n",
    "[i for i in dir(list) if \"__\" not in i]"
   ]
  },
  {
   "cell_type": "code",
   "execution_count": 101,
   "metadata": {},
   "outputs": [
    {
     "name": "stdout",
     "output_type": "stream",
     "text": [
      "1\n"
     ]
    },
    {
     "data": {
      "text/plain": [
       "['jan', 'mar', 'apr', 'may', 'jun', 'jul', 'aug', 'sep', 'oct']"
      ]
     },
     "execution_count": 101,
     "metadata": {},
     "output_type": "execute_result"
    }
   ],
   "source": [
    "list = ['jan', 'feb', 'mar', 'apr', 'may', 'jun', 'jul', 'aug', 'sep']\n",
    "list2 = ['nov', 'dec'] \n",
    "\n",
    "list.pop(1)                     # remove from the provided index of the list\n",
    "\n",
    "list.append('oct')              # appends to the end of list\n",
    "\n",
    "newlist = list.copy()                     # copy makes the copy of the list which can be store in other variables\n",
    "\n",
    "print(list.count('jan'))        # counts the number of occurences of 'jan'\n",
    "\n",
    "list.extend(list2)              # extend merges the list\n",
    "\n",
    "list3 = list + list2            # concatenate \n",
    "\n",
    "list.reverse()                  # reverse the list  \n",
    "\n",
    "list.remove('jan')              # remove the jan from the list\n",
    "\n",
    "list.clear()                    # clear the whole list\n",
    "\n",
    "list\n",
    "\n",
    "newlist\n"
   ]
  },
  {
   "cell_type": "code",
   "execution_count": 99,
   "metadata": {},
   "outputs": [
    {
     "name": "stdout",
     "output_type": "stream",
     "text": [
      "provided list\n",
      " [2, 1, 4, 6, 1, 7, 5]\n",
      "sorted list\n",
      " [1, 1, 2, 4, 5, 6, 7]\n"
     ]
    }
   ],
   "source": [
    "numList = [2,1,4,6,1,7,5]\n",
    "\n",
    "print('provided list\\n', numList)\n",
    "numList.sort() # sort the list\n",
    "print('sorted list\\n', numList)"
   ]
  },
  {
   "cell_type": "code",
   "execution_count": 105,
   "metadata": {},
   "outputs": [
    {
     "name": "stdout",
     "output_type": "stream",
     "text": [
      "[1, 2, 3, 4, 5, 6, 7, 8, 9, 10, 11, 12, 13]\n",
      "[1, 2, 3, 4, 5, 6, 7, 8]\n",
      "[1, 3, 5, 7]\n"
     ]
    }
   ],
   "source": [
    "l1 = [1,2,3,4,5,6,7,8,9,10,11,12,13]\n",
    "\n",
    "#      [start: end]\n",
    "l2 = l1[0:8]\n",
    "\n",
    "#      [start: end: steps]\n",
    "l3 = l1[0:8:2]\n",
    "\n",
    "\n",
    "print(l1)\n",
    "print(l2)\n",
    "print(l3)"
   ]
  },
  {
   "cell_type": "markdown",
   "metadata": {},
   "source": [
    "## 3- Dictionay Methods"
   ]
  },
  {
   "cell_type": "code",
   "execution_count": 109,
   "metadata": {},
   "outputs": [
    {
     "data": {
      "text/plain": [
       "['__class__',\n",
       " '__class_getitem__',\n",
       " '__contains__',\n",
       " '__delattr__',\n",
       " '__delitem__',\n",
       " '__dir__',\n",
       " '__doc__',\n",
       " '__eq__',\n",
       " '__format__',\n",
       " '__ge__',\n",
       " '__getattribute__',\n",
       " '__getitem__',\n",
       " '__getstate__',\n",
       " '__gt__',\n",
       " '__hash__',\n",
       " '__init__',\n",
       " '__init_subclass__',\n",
       " '__ior__',\n",
       " '__iter__',\n",
       " '__le__',\n",
       " '__len__',\n",
       " '__lt__',\n",
       " '__ne__',\n",
       " '__new__',\n",
       " '__or__',\n",
       " '__reduce__',\n",
       " '__reduce_ex__',\n",
       " '__repr__',\n",
       " '__reversed__',\n",
       " '__ror__',\n",
       " '__setattr__',\n",
       " '__setitem__',\n",
       " '__sizeof__',\n",
       " '__str__',\n",
       " '__subclasshook__',\n",
       " 'clear',\n",
       " 'copy',\n",
       " 'fromkeys',\n",
       " 'get',\n",
       " 'items',\n",
       " 'keys',\n",
       " 'pop',\n",
       " 'popitem',\n",
       " 'setdefault',\n",
       " 'update',\n",
       " 'values']"
      ]
     },
     "execution_count": 109,
     "metadata": {},
     "output_type": "execute_result"
    }
   ],
   "source": [
    "[i for i in  dir(dict) if '___' not in i]"
   ]
  },
  {
   "cell_type": "code",
   "execution_count": 121,
   "metadata": {},
   "outputs": [
    {
     "name": "stdout",
     "output_type": "stream",
     "text": [
      "{'name': 'M Ehtesham', 'age': 20}\n",
      "Updated Studnet\n",
      " {'name': 'M Ehtesham', 'age': 20, 'roll no': '22K-4824'}\n",
      "values:\n",
      " dict_values(['M Ehtesham', 20, '22K-4824'])\n",
      "items:\n",
      " dict_items([('name', 'M Ehtesham'), ('age', 20), ('roll no', '22K-4824')])\n",
      "pop: M Ehtesham\n"
     ]
    }
   ],
   "source": [
    "student = {\n",
    "    'name': 'M Ehtesham',\n",
    "    'age': 20\n",
    "}\n",
    "\n",
    "print(student)\n",
    "\n",
    "student.update({'roll no': '22K-4824'})\n",
    "print(\"Updated Studnet\\n\", student)\n",
    "\n",
    "print('values:\\n', student.values())\n",
    "\n",
    "print('items:\\n', student.items())\n",
    "\n",
    "# This line of code is removing the key-value pair with the key 'name' from the `student` dictionary using the `pop()` method. The `pop()` method returns the value associated with the specified key ('name' in this case) and removes the key-value pair from the dictionary.\n",
    "print('pop:', student.pop('name')) "
   ]
  },
  {
   "cell_type": "code",
   "execution_count": 123,
   "metadata": {},
   "outputs": [
    {
     "name": "stdout",
     "output_type": "stream",
     "text": [
      "name: M Ehtesham\n",
      "age: 20\n",
      "roll no: 22K-4824\n"
     ]
    }
   ],
   "source": [
    "student = {\n",
    "    'name': 'M Ehtesham',\n",
    "    'age': 20,\n",
    "    'roll no': '22K-4824'\n",
    "}\n",
    "\n",
    "for key, value in student.items():\n",
    "    print(f'{key}: {value}')"
   ]
  }
 ],
 "metadata": {
  "kernelspec": {
   "display_name": "giaic",
   "language": "python",
   "name": "python3"
  },
  "language_info": {
   "codemirror_mode": {
    "name": "ipython",
    "version": 3
   },
   "file_extension": ".py",
   "mimetype": "text/x-python",
   "name": "python",
   "nbconvert_exporter": "python",
   "pygments_lexer": "ipython3",
   "version": "3.11.11"
  }
 },
 "nbformat": 4,
 "nbformat_minor": 2
}
