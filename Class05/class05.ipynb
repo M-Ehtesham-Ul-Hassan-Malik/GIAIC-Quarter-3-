{
 "cells": [
  {
   "cell_type": "code",
   "execution_count": null,
   "metadata": {},
   "outputs": [
    {
     "name": "stdout",
     "output_type": "stream",
     "text": [
      "2014829077376\n",
      "2014828993024\n",
      "2014829077376\n"
     ]
    }
   ],
   "source": [
    "list1 = [1, 2, 3, 4, 5, 6, 7, 8]\n",
    "list2 = [1, 2, 3, 4, 5, 6, 7, 8]\n",
    "list3 = list1 # pass through reference\n",
    "\n",
    "print(id(list1))\n",
    "print(id(list2))\n",
    "print(id(list3))"
   ]
  },
  {
   "cell_type": "markdown",
   "metadata": {},
   "source": [
    "* The ```==``` operator is used check value.\n",
    "* The ```is``` operator is used check reference."
   ]
  },
  {
   "cell_type": "code",
   "execution_count": 4,
   "metadata": {},
   "outputs": [
    {
     "name": "stdout",
     "output_type": "stream",
     "text": [
      "False\n",
      "True\n"
     ]
    }
   ],
   "source": [
    "print(list1 is list2)\n",
    "print(list1 is list3)"
   ]
  },
  {
   "cell_type": "markdown",
   "metadata": {},
   "source": [
    "If we want to save the information with the same reference we can use the ``intern``` method. For this we need to import sys.\n",
    "\n",
    "For example\n",
    "\n",
    "```Python \n",
    "import sys\n",
    "variable1 = sys.intern('information we want to store')\n",
    "variable 2= sys.intern('information we want to store')\n",
    "```\n",
    "\n",
    "This will give the same refrence to both ```variable1``` and ```variable2```."
   ]
  },
  {
   "cell_type": "code",
   "execution_count": 9,
   "metadata": {},
   "outputs": [
    {
     "name": "stdout",
     "output_type": "stream",
     "text": [
      "2014827985840\n",
      "2014827985840\n"
     ]
    }
   ],
   "source": [
    "import sys\n",
    "\n",
    "name1 = sys.intern('Ehtesham')\n",
    "name2 = sys.intern('Ehtesham')\n",
    "\n",
    "print(id(name1))\n",
    "print(id(name2))"
   ]
  },
  {
   "cell_type": "code",
   "execution_count": null,
   "metadata": {},
   "outputs": [
    {
     "name": "stdout",
     "output_type": "stream",
     "text": [
      "Rishta Qubool\n",
      "istekhara krte han\n",
      "cast sa bahir shadi nhi krte\n",
      "aap khud jatay ho ya hum baghaen\n",
      "Abba nhi maan rahay\n"
     ]
    }
   ],
   "source": [
    "def rishta(income):\n",
    "    match income:\n",
    "        case 200000:\n",
    "            print(\"Rishta Qubool\")\n",
    "        case 150000:\n",
    "            print('istekhara krte han')\n",
    "        case 100000:\n",
    "            print('cast sa bahir shadi nhi krte')\n",
    "        case 0:\n",
    "            print('aap khud jatay ho ya hum baghaen')\n",
    "        case _: \n",
    "            print('Abba nhi maan rahay')\n",
    "\n",
    "\n",
    "rishta(200000)\n",
    "rishta(150000)\n",
    "rishta(100000)\n",
    "rishta(0)\n",
    "rishta(98000)"
   ]
  },
  {
   "cell_type": "markdown",
   "metadata": {},
   "source": [
    "```return``` statement in function is used to \"terminate the state of the function\""
   ]
  }
 ],
 "metadata": {
  "kernelspec": {
   "display_name": "giaic",
   "language": "python",
   "name": "python3"
  },
  "language_info": {
   "codemirror_mode": {
    "name": "ipython",
    "version": 3
   },
   "file_extension": ".py",
   "mimetype": "text/x-python",
   "name": "python",
   "nbconvert_exporter": "python",
   "pygments_lexer": "ipython3",
   "version": "3.11.11"
  }
 },
 "nbformat": 4,
 "nbformat_minor": 2
}
